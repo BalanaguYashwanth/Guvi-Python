{
 "cells": [
  {
   "cell_type": "code",
   "execution_count": null,
   "metadata": {},
   "outputs": [],
   "source": [
    "list=['How','How','are','you']"
   ]
  },
  {
   "cell_type": "code",
   "execution_count": null,
   "metadata": {},
   "outputs": [],
   "source": [
    "list.count('How')"
   ]
  },
  {
   "cell_type": "code",
   "execution_count": null,
   "metadata": {},
   "outputs": [],
   "source": [
    "str=input().split()\n",
    "for i in range(0,len(str)):\n",
    "    if str.count(str[i])==1:\n",
    "        print(str[i],end=\" \")"
   ]
  },
  {
   "cell_type": "code",
   "execution_count": null,
   "metadata": {},
   "outputs": [],
   "source": [
    "a='hello'\n",
    "for i in range(0,len(a)):\n",
    "    if a.count(a[i])==1:\n",
    "        print(a[i])"
   ]
  },
  {
   "cell_type": "code",
   "execution_count": null,
   "metadata": {},
   "outputs": [],
   "source": [
    "str=input().split()\n",
    "k=[]\n",
    "for i in range(0,len(str)):\n",
    "    if str.count(str[i])==1:\n",
    "        k.append(str[i])\n",
    "        print(k)\n",
    "        "
   ]
  },
  {
   "cell_type": "code",
   "execution_count": null,
   "metadata": {},
   "outputs": [],
   "source": [
    "a=\"heo\"\n",
    "count=0\n",
    "for i in range(0,len(a)):\n",
    "    count=0\n",
    "    for j in range(0,len(a)):\n",
    "        if(a[i]==a[j]):\n",
    "            count+=1\n",
    "            print(a[i],count)"
   ]
  },
  {
   "cell_type": "code",
   "execution_count": null,
   "metadata": {},
   "outputs": [],
   "source": [
    "a=\"hello\"\n",
    "k=[]\n",
    "for i in range(0,len(a)):\n",
    "    if(a.count(a[i])==1):\n",
    "        k.append(a[i])"
   ]
  },
  {
   "cell_type": "code",
   "execution_count": null,
   "metadata": {},
   "outputs": [],
   "source": [
    "  print(k)"
   ]
  },
  {
   "cell_type": "code",
   "execution_count": null,
   "metadata": {},
   "outputs": [],
   "source": [
    "a=\"hello how are you how hello\"\n",
    "b=a.split()\n",
    "d=[]\n",
    "for i in range(1,len(b)):\n",
    "    if(a.count(b[i])==1):\n",
    "          d.append(b[i])\n"
   ]
  },
  {
   "cell_type": "code",
   "execution_count": null,
   "metadata": {},
   "outputs": [],
   "source": [
    "name=\"yash\"\n",
    "def append(name):\n",
    "    k=[];\n",
    "    k.append(name)\n",
    "    return k"
   ]
  },
  {
   "cell_type": "code",
   "execution_count": null,
   "metadata": {},
   "outputs": [],
   "source": [
    "a=\"yash\"\n",
    "t=[]\n",
    "k=[]\n",
    "for i in range(0,len(a)):\n",
    "    if a[i] == 'a' or a[i]=='e' :\n",
    "        t.append(a[i])\n",
    "    else:\n",
    "        k.append(a[i])\n",
    "        "
   ]
  },
  {
   "cell_type": "code",
   "execution_count": null,
   "metadata": {},
   "outputs": [],
   "source": [
    "print(k)\n"
   ]
  },
  {
   "cell_type": "markdown",
   "metadata": {},
   "source": [
    "# Contact"
   ]
  },
  {
   "cell_type": "code",
   "execution_count": null,
   "metadata": {},
   "outputs": [],
   "source": [
    "z=[];\n",
    "def add(name):\n",
    "    z.append(name)\n",
    "    return z\n",
    "\n",
    "\n",
    "print(add(input()))"
   ]
  },
  {
   "cell_type": "markdown",
   "metadata": {},
   "source": [
    "# Calculate Birthday"
   ]
  },
  {
   "cell_type": "code",
   "execution_count": null,
   "metadata": {},
   "outputs": [],
   "source": [
    "a=int(input('when is your birthday:'))\n",
    "c=2019-a\n",
    "print(c)"
   ]
  },
  {
   "cell_type": "markdown",
   "metadata": {},
   "source": [
    "# Patterns"
   ]
  },
  {
   "cell_type": "code",
   "execution_count": null,
   "metadata": {},
   "outputs": [],
   "source": [
    "i=1;\n",
    "while i<5:\n",
    "    print('*'*i)\n",
    "    i+=1\n",
    "    "
   ]
  },
  {
   "cell_type": "markdown",
   "metadata": {},
   "source": [
    "# Guess"
   ]
  },
  {
   "cell_type": "code",
   "execution_count": null,
   "metadata": {},
   "outputs": [],
   "source": [
    "guess=9\n",
    "count=0\n",
    "limit=3\n",
    "guesscount=0\n",
    "while count < limit:\n",
    "    guesscount=int(input('guess:'))\n",
    "    count=count+1\n",
    "    if(guesscount==guess):\n",
    "        print(\"you won\")\n",
    "        break  \n",
    "else:\n",
    "    print('you failed')\n",
    "   \n",
    "  "
   ]
  },
  {
   "cell_type": "markdown",
   "metadata": {},
   "source": [
    "# Command"
   ]
  },
  {
   "cell_type": "code",
   "execution_count": null,
   "metadata": {},
   "outputs": [],
   "source": [
    "command=\"\"\n",
    "while True:\n",
    "    command=input()\n",
    "    if command == 'start':\n",
    "        print(\"start the car\")\n",
    "    elif command == 'stop':\n",
    "        print(\"stop the car\")\n",
    "    elif command == 'quit':\n",
    "        break\n",
    "    else:\n",
    "        print(\"sorry \")"
   ]
  },
  {
   "cell_type": "markdown",
   "metadata": {},
   "source": [
    "# Total Sum"
   ]
  },
  {
   "cell_type": "code",
   "execution_count": null,
   "metadata": {},
   "outputs": [],
   "source": [
    "t=[10,20,30]\n",
    "sum=0\n",
    "for x in t:\n",
    "    sum=sum+x\n",
    "    \n",
    "\n",
    "print(f\"sum is {sum} and another is {sum}\")\n",
    "\n",
    "  "
   ]
  },
  {
   "cell_type": "markdown",
   "metadata": {},
   "source": [
    "# Challenge"
   ]
  },
  {
   "cell_type": "code",
   "execution_count": null,
   "metadata": {},
   "outputs": [],
   "source": [
    "b=[]\n",
    "count=0\n",
    "while count<5:\n",
    "    i=input\n",
    "    b.append(i)\n",
    "    count+=1\n",
    "print(a)\n",
    "for i in a:\n",
    "    print('*'*i)"
   ]
  },
  {
   "cell_type": "code",
   "execution_count": null,
   "metadata": {},
   "outputs": [],
   "source": [
    "print(a)\n",
    "for i in a:\n",
    "    print('*'*i)"
   ]
  },
  {
   "cell_type": "markdown",
   "metadata": {},
   "source": [
    "# Count the words "
   ]
  },
  {
   "cell_type": "code",
   "execution_count": null,
   "metadata": {},
   "outputs": [],
   "source": [
    "s=\"who hai who are they\"\n",
    "t=s.split()\n",
    "for i in range(0,len(t)):\n",
    "    if (t.count(t[i]))==2:\n",
    "        print(t[i],2)\n",
    "    else:\n",
    "        print(t[i],1)\n",
    "        "
   ]
  },
  {
   "cell_type": "code",
   "execution_count": null,
   "metadata": {},
   "outputs": [],
   "source": []
  },
  {
   "cell_type": "code",
   "execution_count": null,
   "metadata": {},
   "outputs": [],
   "source": []
  },
  {
   "cell_type": "markdown",
   "metadata": {},
   "source": [
    "# Input to list"
   ]
  },
  {
   "cell_type": "code",
   "execution_count": null,
   "metadata": {},
   "outputs": [],
   "source": [
    " a=input()\n",
    "b=a.split()\n",
    "c=list(map(int,b))\n",
    "for i in c:\n",
    "    print('*'*i)"
   ]
  },
  {
   "cell_type": "code",
   "execution_count": null,
   "metadata": {},
   "outputs": [],
   "source": [
    "number=[2,3,4,5]\n",
    "max=0\n",
    "for i in range(0,len(number)):\n",
    "    for j in range(1,len(number)):\n",
    "        if(number[i]>number[j]):\n",
    "            max=number[i]\n",
    "\n",
    "print(max)        "
   ]
  },
  {
   "cell_type": "markdown",
   "metadata": {},
   "source": [
    "# Matrix"
   ]
  },
  {
   "cell_type": "code",
   "execution_count": null,
   "metadata": {},
   "outputs": [],
   "source": [
    "matrix=[[1],[2],[3],\n",
    "       [4],[5],[6],\n",
    "       [7],[8],[9]]\n",
    "for row in matrix:\n",
    "    for items in row:\n",
    "        print(items)"
   ]
  },
  {
   "cell_type": "markdown",
   "metadata": {},
   "source": [
    "# Coordinates"
   ]
  },
  {
   "cell_type": "code",
   "execution_count": null,
   "metadata": {},
   "outputs": [],
   "source": [
    "t=(2,3,4)\n",
    "x,y,z = t\n",
    "print(z)"
   ]
  },
  {
   "cell_type": "markdown",
   "metadata": {},
   "source": [
    "# Count the letters in Advance"
   ]
  },
  {
   "cell_type": "code",
   "execution_count": null,
   "metadata": {},
   "outputs": [],
   "source": [
    "a=\"how are they are how hai\"\n",
    "b=a.split()\n",
    "c=dict()\n",
    "for i in b:\n",
    "    if i not in c:\n",
    "        c[i]=1\n",
    "           \n",
    "    else:\n",
    "        c[i]=c[i]+1\n",
    "        \n",
    "print(c)"
   ]
  },
  {
   "cell_type": "markdown",
   "metadata": {},
   "source": [
    "# Files"
   ]
  },
  {
   "cell_type": "code",
   "execution_count": null,
   "metadata": {},
   "outputs": [],
   "source": [
    "def harish(name,last):\n",
    "    print(f\"ho hi {name},{last}\")\n",
    "    \n",
    "    \n",
    "harish(\"yash\",\"uj\")"
   ]
  },
  {
   "cell_type": "markdown",
   "metadata": {},
   "source": [
    "# Contacts"
   ]
  },
  {
   "cell_type": "code",
   "execution_count": null,
   "metadata": {},
   "outputs": [],
   "source": [
    "\n",
    "\n",
    "def add(name,number):\n",
    "    a={}\n",
    "    a[name]=number\n",
    "    print(a)\n",
    "    \n",
    "name=input()\n",
    "number=input()\n",
    "add(name,number)"
   ]
  },
  {
   "cell_type": "code",
   "execution_count": null,
   "metadata": {},
   "outputs": [],
   "source": [
    "def remove(user):\n",
    "    a.pop(user)    "
   ]
  },
  {
   "cell_type": "code",
   "execution_count": null,
   "metadata": {},
   "outputs": [],
   "source": [
    "def show():\n",
    "    print(a)"
   ]
  },
  {
   "cell_type": "code",
   "execution_count": null,
   "metadata": {},
   "outputs": [],
   "source": [
    "def search(user):\n",
    "    if user in a:\n",
    "        print(f\"name {name} is exist \")"
   ]
  },
  {
   "cell_type": "code",
   "execution_count": null,
   "metadata": {},
   "outputs": [],
   "source": [
    "def display(user):\n",
    "    c=a.get(user)\n",
    "    print(c)"
   ]
  },
  {
   "cell_type": "code",
   "execution_count": null,
   "metadata": {},
   "outputs": [],
   "source": [
    "j=0\n",
    "name=[]\n",
    "while j>5:\n",
    "    def adde(name):\n",
    "        c.append(name)\n",
    "        j=j+1\n",
    "        \n",
    "        \n",
    "i=1\n",
    "c=[]\n",
    "while(i<5):\n",
    "    c.append(input(\"enter \"))\n",
    "    i=i+1\n",
    "    \n",
    "print(c)\n",
    "\n",
    "\n"
   ]
  },
  {
   "cell_type": "markdown",
   "metadata": {},
   "source": [
    "# Sorting the array"
   ]
  },
  {
   "cell_type": "code",
   "execution_count": null,
   "metadata": {},
   "outputs": [],
   "source": [
    " a=input()\n",
    "b=a.split()\n",
    "c=list(map(int,b))\n",
    "c.sort()\n",
    "for i in c:\n",
    "    print(i,end=\" \")"
   ]
  },
  {
   "cell_type": "code",
   "execution_count": null,
   "metadata": {},
   "outputs": [],
   "source": []
  },
  {
   "cell_type": "code",
   "execution_count": null,
   "metadata": {},
   "outputs": [],
   "source": []
  },
  {
   "cell_type": "code",
   "execution_count": null,
   "metadata": {},
   "outputs": [],
   "source": []
  },
  {
   "cell_type": "code",
   "execution_count": null,
   "metadata": {},
   "outputs": [],
   "source": [
    "a=\"yash vinay joseph kiran\"\n",
    "b=a.split()\n",
    "n={}\n",
    "for i in b:\n",
    "    while(j<5):\n",
    "        n[i]=j\n",
    "        j+=1"
   ]
  },
  {
   "cell_type": "code",
   "execution_count": null,
   "metadata": {},
   "outputs": [],
   "source": [
    "print(n)"
   ]
  },
  {
   "cell_type": "code",
   "execution_count": null,
   "metadata": {},
   "outputs": [],
   "source": [
    "a=\"yash vinay joseph kiran\"\n",
    "b=a.split()\n",
    "n={}\n",
    "j=1\n",
    "for i in b:\n",
    "    while(j<5):\n",
    "        n[i]=j\n",
    "        j+=1\n",
    "        print(n)"
   ]
  },
  {
   "cell_type": "code",
   "execution_count": null,
   "metadata": {},
   "outputs": [],
   "source": [
    "n=input()"
   ]
  },
  {
   "cell_type": "code",
   "execution_count": null,
   "metadata": {},
   "outputs": [],
   "source": []
  },
  {
   "cell_type": "code",
   "execution_count": null,
   "metadata": {},
   "outputs": [],
   "source": [
    "\n",
    "def add(name,number):\n",
    "    a={}\n",
    "    a[name]=number\n",
    "    print(a)"
   ]
  },
  {
   "cell_type": "code",
   "execution_count": null,
   "metadata": {},
   "outputs": [],
   "source": []
  },
  {
   "cell_type": "code",
   "execution_count": null,
   "metadata": {},
   "outputs": [],
   "source": []
  },
  {
   "cell_type": "code",
   "execution_count": null,
   "metadata": {},
   "outputs": [],
   "source": []
  },
  {
   "cell_type": "code",
   "execution_count": null,
   "metadata": {},
   "outputs": [],
   "source": []
  },
  {
   "cell_type": "code",
   "execution_count": null,
   "metadata": {},
   "outputs": [],
   "source": []
  },
  {
   "cell_type": "code",
   "execution_count": null,
   "metadata": {},
   "outputs": [],
   "source": []
  },
  {
   "cell_type": "code",
   "execution_count": null,
   "metadata": {},
   "outputs": [],
   "source": []
  },
  {
   "cell_type": "code",
   "execution_count": null,
   "metadata": {},
   "outputs": [],
   "source": []
  },
  {
   "cell_type": "code",
   "execution_count": null,
   "metadata": {},
   "outputs": [],
   "source": []
  },
  {
   "cell_type": "code",
   "execution_count": null,
   "metadata": {},
   "outputs": [],
   "source": []
  },
  {
   "cell_type": "code",
   "execution_count": null,
   "metadata": {},
   "outputs": [],
   "source": []
  },
  {
   "cell_type": "code",
   "execution_count": null,
   "metadata": {},
   "outputs": [],
   "source": []
  },
  {
   "cell_type": "code",
   "execution_count": null,
   "metadata": {},
   "outputs": [],
   "source": []
  },
  {
   "cell_type": "code",
   "execution_count": null,
   "metadata": {},
   "outputs": [],
   "source": []
  },
  {
   "cell_type": "code",
   "execution_count": 1,
   "metadata": {},
   "outputs": [
    {
     "name": "stdout",
     "output_type": "stream",
     "text": [
      "exit\n"
     ]
    }
   ],
   "source": [
    "\n",
    "\n",
    "\n",
    "    \n",
    "\n",
    "a=dict()\n",
    "def add(name,number):\n",
    "    a[name]=number\n",
    "    print(a)\n",
    "    \n",
    "\n",
    "def remove(user):\n",
    "    a.pop(user)    \n",
    "    \n",
    "def show():\n",
    "    print(a)\n",
    "    \n",
    "def search(user):\n",
    "    if user in a:\n",
    "        print(f\"name {name} is exist \")\n",
    "        \n",
    "def display(user,number):\n",
    "    for name,number in a.items():\n",
    "        print(name,number)\n",
    "\n",
    "b=input(1.'Add',\n",
    "       2.'Remove',\n",
    "       3.'Show',\n",
    "       4.'Display',\n",
    "       5.'exit')\n",
    "\n",
    "i=1    \n",
    "while (1):\n",
    "    if b == 'Add':\n",
    "        name=input()\n",
    "        number=input()\n",
    "        add(name,number) \n",
    "    elif b == 'Remove':\n",
    "        user=input(\"enter your hate person:\")\n",
    "        remove(user)\n",
    "    elif b == 'Show':\n",
    "        show()\n",
    "    elif b == 'Search':\n",
    "        user=input(\"enter your loved person:\")\n",
    "        search(user)\n",
    "    elif b == 'Display':\n",
    "        user=input(\"enter your loved person:\")\n",
    "        number=input('enter the person no.:')\n",
    "        display(user,number)\n",
    "    elif b == 'exit':\n",
    "        break    "
   ]
  },
  {
   "cell_type": "code",
   "execution_count": null,
   "metadata": {},
   "outputs": [],
   "source": []
  },
  {
   "cell_type": "code",
   "execution_count": null,
   "metadata": {},
   "outputs": [],
   "source": [
    "a='yash'\n",
    "b=a.sspl"
   ]
  },
  {
   "cell_type": "code",
   "execution_count": null,
   "metadata": {},
   "outputs": [],
   "source": []
  },
  {
   "cell_type": "code",
   "execution_count": null,
   "metadata": {},
   "outputs": [],
   "source": []
  },
  {
   "cell_type": "code",
   "execution_count": null,
   "metadata": {},
   "outputs": [],
   "source": []
  },
  {
   "cell_type": "code",
   "execution_count": null,
   "metadata": {},
   "outputs": [],
   "source": []
  },
  {
   "cell_type": "code",
   "execution_count": null,
   "metadata": {},
   "outputs": [],
   "source": []
  },
  {
   "cell_type": "code",
   "execution_count": null,
   "metadata": {},
   "outputs": [],
   "source": []
  }
 ],
 "metadata": {
  "kernelspec": {
   "display_name": "Python 3",
   "language": "python",
   "name": "python3"
  },
  "language_info": {
   "codemirror_mode": {
    "name": "ipython",
    "version": 3
   },
   "file_extension": ".py",
   "mimetype": "text/x-python",
   "name": "python",
   "nbconvert_exporter": "python",
   "pygments_lexer": "ipython3",
   "version": "3.7.3"
  }
 },
 "nbformat": 4,
 "nbformat_minor": 2
}
